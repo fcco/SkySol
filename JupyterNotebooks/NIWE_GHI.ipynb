{
 "cells": [
  {
   "cell_type": "code",
   "execution_count": 1,
   "metadata": {},
   "outputs": [],
   "source": [
    "# Reading NIWE GHI measurement data\n",
    "filename = \"/home/l1nx/NIWE/data/Data_20190110.csv\"\n",
    "# Use pandas to do so\n",
    "import pandas as pd\n",
    "import numpy as np\n",
    "\n",
    "# Define timezone\n",
    "import pytz\n",
    "tzi = pytz.timezone(\"Asia/Colombo\")\n",
    "\n",
    "# Read CSV line by line an read the last column\n",
    "with open(filename) as f:\n",
    "    lis=[line.split(',') for line in f]        # create a list of lists\n",
    "ts = [l[0] for l in lis[1:]]"
   ]
  },
  {
   "cell_type": "code",
   "execution_count": 2,
   "metadata": {},
   "outputs": [],
   "source": [
    "from datetime import datetime\n",
    "# Convert strings with timestamps to python internal datetime objects\n",
    "dts = [ datetime.strptime(d, \"%d-%m-%Y %H:%M:%S\") for d in ts ]\n",
    "# Convert local datetime to UTC datetime to make it compatible with image timestamps\n",
    "ldt = [ tzi.localize(dt,is_dst=False).astimezone(pytz.UTC) for dt in dts ]"
   ]
  },
  {
   "cell_type": "code",
   "execution_count": 3,
   "metadata": {},
   "outputs": [],
   "source": [
    "# Measured GHI\n",
    "ghi = [ int(l[-2]) for l in lis[1:]]\n",
    "# Unix Timestamp\n",
    "time = [ d.timestamp() for d in ldt ]\n",
    "# Datetime objects\n",
    "dates = np.array([ pytz.UTC.localize(datetime.utcfromtimestamp(ts)) for ts in time ])"
   ]
  },
  {
   "cell_type": "code",
   "execution_count": 4,
   "metadata": {},
   "outputs": [],
   "source": [
    "# Interpolate measurements to 1s resolution\n",
    "ghi = pd.Series(ghi, index = dates)\n",
    "res = ghi.resample('1S').interpolate()\n",
    "dates = [ts.to_pydatetime() for ts in res.index]\n",
    "time = [ dt.timestamp() for dt in dates ]\n",
    "ghi = np.array(res.values)"
   ]
  },
  {
   "cell_type": "code",
   "execution_count": 5,
   "metadata": {},
   "outputs": [],
   "source": [
    "# Import clearsky data with pvlib\n",
    "from pvlib.location import Location\n",
    "lat = 12.956785    # camera latitude\n",
    "lon = 80.2142      # camera longitude\n",
    "loc = Location(lat, lon)\n",
    "clear = loc.get_clearsky(res.index, model=\"simplified_solis\")\n",
    "clear2 = loc.get_clearsky(res.index, model=\"ineichen\")\n",
    "clear3 = loc.get_clearsky(res.index, model=\"haurwitz\")\n",
    "\n"
   ]
  },
  {
   "cell_type": "code",
   "execution_count": 10,
   "metadata": {},
   "outputs": [
    {
     "name": "stdout",
     "output_type": "stream",
     "text": [
      "Using matplotlib backend: TkAgg\n"
     ]
    }
   ],
   "source": [
    "# Visualize data with matplotlib\n",
    "import matplotlib.pyplot as plt\n",
    "%matplotlib auto\n",
    "plt.plot(dates, ghi)\n",
    "plt.plot(dates,clear['ghi'].values,label=\"Simplified Solis\")\n",
    "plt.plot(dates,clear2['ghi'].values,label=\"Ineichen\")\n",
    "plt.plot(dates,clear3['ghi'].values,label=\"Haurwitz\")\n",
    "plt.legend()\n",
    "plt.show()"
   ]
  },
  {
   "cell_type": "code",
   "execution_count": 8,
   "metadata": {},
   "outputs": [],
   "source": [
    "import tables\n",
    "import os\n",
    "import pvlib\n",
    "import calendar\n",
    "pvlib_path = os.path.dirname(os.path.abspath(pvlib.clearsky.__file__))\n",
    "filepath = os.path.join(pvlib_path, 'data', 'LinkeTurbidities.h5')\n",
    "def plot_turbidity_map(month, vmin=1, vmax=100):\n",
    "   plt.figure();\n",
    "   with tables.open_file(filepath) as lt_h5_file:\n",
    "       ltdata = lt_h5_file.root.LinkeTurbidity[:, :, month-1]\n",
    "   plt.imshow(ltdata, vmin=vmin, vmax=vmax);\n",
    "   # data is in units of 20 x turbidity\n",
    "   plt.title('Linke turbidity x 20, ' + calendar.month_name[month]);\n",
    "   plt.colorbar(shrink=0.5);\n",
    "   plt.tight_layout();\n"
   ]
  },
  {
   "cell_type": "code",
   "execution_count": 9,
   "metadata": {},
   "outputs": [],
   "source": [
    "plot_turbidity_map(1)\n"
   ]
  },
  {
   "cell_type": "code",
   "execution_count": null,
   "metadata": {},
   "outputs": [],
   "source": []
  }
 ],
 "metadata": {
  "kernelspec": {
   "display_name": "Python 3",
   "language": "python",
   "name": "python3"
  },
  "language_info": {
   "codemirror_mode": {
    "name": "ipython",
    "version": 3
   },
   "file_extension": ".py",
   "mimetype": "text/x-python",
   "name": "python",
   "nbconvert_exporter": "python",
   "pygments_lexer": "ipython3",
   "version": "3.5.3"
  }
 },
 "nbformat": 4,
 "nbformat_minor": 2
}
