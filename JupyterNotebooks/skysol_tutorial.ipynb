{
 "cells": [
  {
   "cell_type": "code",
   "execution_count": 2,
   "metadata": {},
   "outputs": [
    {
     "name": "stdout",
     "output_type": "stream",
     "text": [
      "##########################################\n",
      "#             SkySol                     #\n",
      "#                                        #\n",
      "# Sky Imager Analysis and Forecast Tool  #\n",
      "#                                        #\n",
      "#           Version 0.5                  #\n",
      "#                                        #\n",
      "##########################################\n",
      "Changed image directory to /home/l1nx/NIWE/rbr_test\n",
      "Running SkySol in single picture mode\n",
      "Check Settings...\n",
      "Mode = Single Pictures and Optical Flow activated -> Switch Optical Flow off!\n",
      "Mode = Single Pictures and Forecast Flag activated -> Switch Forecast off!\n",
      "I changed output directory for analyses graphics to/home/l1nx/NIWE/skysol/rbr_test !\n",
      "...finished\n",
      "\n",
      "Initialise software...\n",
      "Camera model...\t\tfinished in 3.7 seconds\n"
     ]
    },
    {
     "ename": "SystemExit",
     "evalue": "no images found, check the search directory /home/l1nx/NIWE/rbr_test/*.jpg for files. -> Exit!",
     "output_type": "error",
     "traceback": [
      "An exception has occurred, use %tb to see the full traceback.\n",
      "\u001b[0;31mSystemExit\u001b[0m\u001b[0;31m:\u001b[0m no images found, check the search directory /home/l1nx/NIWE/rbr_test/*.jpg for files. -> Exit!\n"
     ]
    }
   ],
   "source": [
    "# Change to SkySol folder and run the code\n",
    "\n",
    "# 1. Single picture mode (used for single images that must be in chronological order, e.g. for testing segmentation, calibration, classification, ...)\n",
    "# In Single Picture mode, Forecasting and Optical Flow is not possible\n",
    "Img_Folder = \"C:\\NIWE_SkyImages\\TestImages\"\n",
    "run main.py -p Img_Folder"
   ]
  },
  {
   "cell_type": "code",
   "execution_count": null,
   "metadata": {},
   "outputs": [],
   "source": [
    "# If you want to process clear sky images and want to force SkySol to add them to the clear sky library, run\n",
    "# Switch on \"write_csl=True\" in settings.py (switch it off afterwards)\n",
    "Img_Folder = \"C:\\NIWE_SkyImages\\ClearImages\"\n",
    "run main.py -p Img_Folder --isclear=True"
   ]
  },
  {
   "cell_type": "code",
   "execution_count": null,
   "metadata": {},
   "outputs": [],
   "source": [
    "# Cloud motion\n",
    "# Cloud motion must be tested in archive mode. To run SkySol in archive mode, either specify complete date or start and end timestamp\n",
    "\n",
    "# make sure you have specified correct \"picpath\" in skysol/settings/settings.py (it must be the image archive without the YYYYmmdd subdirectories)\n",
    "# e.g. self.picpath = \"X:\\sky-images\"\n",
    "\n",
    "# This will process images from 09.00 to 09.10 UTC\n",
    "run main.py -s 20190108_090000 -e 20190108_0910000"
   ]
  },
  {
   "cell_type": "code",
   "execution_count": null,
   "metadata": {},
   "outputs": [],
   "source": [
    "\n",
    "\n"
   ]
  }
 ],
 "metadata": {
  "kernelspec": {
   "display_name": "Python 3",
   "language": "python",
   "name": "python3"
  },
  "language_info": {
   "codemirror_mode": {
    "name": "ipython",
    "version": 3
   },
   "file_extension": ".py",
   "mimetype": "text/x-python",
   "name": "python",
   "nbconvert_exporter": "python",
   "pygments_lexer": "ipython3",
   "version": "3.5.3"
  }
 },
 "nbformat": 4,
 "nbformat_minor": 2
}
