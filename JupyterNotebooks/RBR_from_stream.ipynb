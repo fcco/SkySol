{
 "cells": [
  {
   "cell_type": "code",
   "execution_count": null,
   "metadata": {},
   "outputs": [],
   "source": [
    "import cv2\n",
    "import matplotlib.pyplot as plt\n",
    "%matplotlib auto\n",
    "url = \"http://192.168.14.218/video.mjpg\"\n",
    "cap = cv2.VideoCapture()\n"
   ]
  },
  {
   "cell_type": "code",
   "execution_count": null,
   "metadata": {},
   "outputs": [],
   "source": [
    "while(True):\n",
    "    \n",
    "    # Capture frame-by-frame\n",
    "    ret, current_frame = cap.read()\n",
    "    if type(current_frame) == type(None):\n",
    "        print(\"!!! Couldn't read frame!\")\n",
    "        break\n",
    "\n",
    "    \n",
    "    # Convert from BGR -> RGB\n",
    "    img = cv2.cvtColor(frame, cv2.COLOR_BGR2RGB)\n",
    "    # Create Grayscale Image (1-dimensional image with pixel intensity)\n",
    "    img_gray = cv2.cvtColor(img, cv2.COLOR_RGB2GRAY)\n",
    "\n",
    "    # floating point image\n",
    "    tmp = np.array(img, dtype=np.float32)\n",
    "\n",
    "    # RBR image (divide by non-0 number)\n",
    "    rbr = img[:,:,0] / (img[:,:,2]+0.0001)\n",
    "    \n",
    "    c2.namedWindow('frame',CV_WINDOW_AUTOSIZE)\n",
    "    # Display the resulting frame\n",
    "    cv2.imshow('frame', rbr)\n",
    "    if cv2.waitKey(1) & 0xFF == ord('q'):\n",
    "        break\n",
    "\n",
    "# release the capture\n",
    "cap.release()\n",
    "cv2.destroyAllWindows()"
   ]
  },
  {
   "cell_type": "code",
   "execution_count": null,
   "metadata": {},
   "outputs": [],
   "source": []
  },
  {
   "cell_type": "code",
   "execution_count": null,
   "metadata": {},
   "outputs": [],
   "source": []
  }
 ],
 "metadata": {
  "kernelspec": {
   "display_name": "Python 3",
   "language": "python",
   "name": "python3"
  },
  "language_info": {
   "codemirror_mode": {
    "name": "ipython",
    "version": 3
   },
   "file_extension": ".py",
   "mimetype": "text/x-python",
   "name": "python",
   "nbconvert_exporter": "python",
   "pygments_lexer": "ipython3",
   "version": "3.5.3"
  }
 },
 "nbformat": 4,
 "nbformat_minor": 2
}
